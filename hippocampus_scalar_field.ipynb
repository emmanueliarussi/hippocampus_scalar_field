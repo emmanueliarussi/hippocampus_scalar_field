{
 "cells": [
  {
   "cell_type": "code",
   "execution_count": 1,
   "id": "663d146e-acb6-4622-ae5c-21d5b3244728",
   "metadata": {},
   "outputs": [],
   "source": [
    "# Import necessary libraries and modules\n",
    "import nibabel as nib\n",
    "import matplotlib.pyplot as plt\n",
    "import scipy\n",
    "import scipy.ndimage as ndi\n",
    "from skimage import measure\n",
    "import numpy as np\n",
    "from mpl_toolkits.mplot3d.art3d import Poly3DCollection\n",
    "import matplotlib.colors as mcolors\n",
    "from scipy.ndimage import map_coordinates\n",
    "import meshplot as mp\n",
    "import trimesh\n",
    "import os"
   ]
  },
  {
   "cell_type": "markdown",
   "id": "3b6bab99-3ce6-44e8-a698-b1e43ca48ef4",
   "metadata": {},
   "source": [
    "# Load Volume"
   ]
  },
  {
   "cell_type": "code",
   "execution_count": 2,
   "id": "12074d25-522b-4e38-b4d1-d242fb096593",
   "metadata": {},
   "outputs": [
    {
     "name": "stdout",
     "output_type": "stream",
     "text": [
      "<class 'nibabel.nifti1.Nifti1Image'>\n"
     ]
    }
   ],
   "source": [
    "# Load the brain volume data\n",
    "brain_vol = nib.load('data/r_HEC_CON_001right.nii')\n",
    "\n",
    "# Check the type of the brain volume object\n",
    "print(type(brain_vol))"
   ]
  },
  {
   "cell_type": "code",
   "execution_count": 3,
   "id": "09cf24ac-765c-41fb-a6ec-c418c9dd3571",
   "metadata": {},
   "outputs": [
    {
     "name": "stdout",
     "output_type": "stream",
     "text": [
      "<class 'numpy.memmap'>\n",
      "(64, 64, 64)\n"
     ]
    }
   ],
   "source": [
    "# Extract data from the brain volume object\n",
    "brain_vol_data = brain_vol.get_fdata()\n",
    "print(type(brain_vol_data))\n",
    "print(brain_vol_data.shape)"
   ]
  },
  {
   "cell_type": "code",
   "execution_count": 4,
   "id": "8672b8df-f1a6-4118-8dc6-c5322bb27cde",
   "metadata": {},
   "outputs": [
    {
     "data": {
      "image/png": "[encoded data removed]",
      "text/plain": [
       "<Figure size 500x500 with 16 Axes>"
      ]
     },
     "metadata": {},
     "output_type": "display_data"
    }
   ],
   "source": [
    "# Plot slices of the brain volume data using matplotlib\n",
    "fig_rows, fig_cols = 4, 4\n",
    "n_subplots = fig_rows * fig_cols\n",
    "n_slice = brain_vol_data.shape[0]\n",
    "step_size = n_slice // n_subplots\n",
    "plot_range = n_subplots * step_size\n",
    "start_stop = int((n_slice - plot_range) / 2)\n",
    "\n",
    "fig, axs = plt.subplots(fig_rows, fig_cols, figsize=[5, 5])\n",
    "\n",
    "for idx, img in enumerate(range(start_stop, plot_range, step_size)):\n",
    "    axs.flat[idx].imshow(ndi.rotate(brain_vol_data[img, :, :], 90), cmap='gray')\n",
    "    axs.flat[idx].axis('off')\n",
    "\n",
    "plt.tight_layout()\n",
    "plt.show()"
   ]
  },
  {
   "cell_type": "markdown",
   "id": "e1ff4b28-a96a-415f-b46d-7eeb19f938f2",
   "metadata": {},
   "source": [
    "# Mesh the volume"
   ]
  },
  {
   "cell_type": "code",
   "execution_count": 5,
   "id": "f21ede8f-8e59-493a-ac80-e8a2c250f0d8",
   "metadata": {},
   "outputs": [],
   "source": [
    "# Apply the marching cubes algorithm to extract surface mesh\n",
    "verts, faces, normals, values = measure.marching_cubes(brain_vol_data, 0.5)\n",
    "\n",
    "# Orient faces\n",
    "faces = faces[:, ::-1]"
   ]
  },
  {
   "cell_type": "code",
   "execution_count": 6,
   "id": "52583745-2aaf-4ffb-ad14-9088f808d62d",
   "metadata": {},
   "outputs": [
    {
     "data": {
      "application/vnd.jupyter.widget-view+json": {
       "model_id": "e760be92143c44ae9848553990a9e56b",
       "version_major": 2,
       "version_minor": 0
      },
      "text/plain": [
       "HBox(children=(Output(), Output()))"
      ]
     },
     "metadata": {},
     "output_type": "display_data"
    },
    {
     "data": {
      "application/vnd.jupyter.widget-view+json": {
       "model_id": "321fa2d412224719a9f56138f12b27ce",
       "version_major": 2,
       "version_minor": 0
      },
      "text/plain": [
       "HBox(children=(Output(), Output()))"
      ]
     },
     "metadata": {},
     "output_type": "display_data"
    }
   ],
   "source": [
    "# Plot the mesh\n",
    "d = mp.subplot(verts, faces, s=[2, 2, 2])"
   ]
  },
  {
   "cell_type": "markdown",
   "id": "4f9b3f1e-d1f2-4a84-9eec-b189bba121ca",
   "metadata": {},
   "source": [
    "# Smooth the mesh (laplacian filter)"
   ]
  },
  {
   "cell_type": "code",
   "execution_count": 7,
   "id": "c677f0b5-58ee-4672-b007-2f228c78e322",
   "metadata": {},
   "outputs": [],
   "source": [
    "# Load the mesh\n",
    "mesh = trimesh.Trimesh(vertices=verts, faces=faces)"
   ]
  },
  {
   "cell_type": "code",
   "execution_count": 8,
   "id": "40fdbea5-abca-4cf8-8d4d-1b0b85854cf8",
   "metadata": {},
   "outputs": [],
   "source": [
    "# Apply Loop subdivision\n",
    "subdivided_mesh = mesh.subdivide_loop()"
   ]
  },
  {
   "cell_type": "code",
   "execution_count": 9,
   "id": "46aedd0a-3ae5-4e6f-88d7-9a03892843d5",
   "metadata": {},
   "outputs": [],
   "source": [
    "# Apply Laplacian smoothing\n",
    "smoothed_mesh = trimesh.smoothing.filter_laplacian(subdivided_mesh, lamb=0.5, iterations=10, implicit_time_integration=False, volume_constraint=True, laplacian_operator=None)"
   ]
  },
  {
   "cell_type": "code",
   "execution_count": 10,
   "id": "912b7aaf-f179-480d-832f-21efae9add3a",
   "metadata": {},
   "outputs": [
    {
     "name": "stderr",
     "output_type": "stream",
     "text": [
      "/Users/emmanueliarussi/miniconda3/envs/hypp/lib/python3.10/site-packages/traittypes/traittypes.py:97: UserWarning: Given trait value dtype \"float32\" does not match required type \"float64\". A coerced copy has been created.\n",
      "  warnings.warn(\n",
      "/Users/emmanueliarussi/miniconda3/envs/hypp/lib/python3.10/site-packages/traittypes/traittypes.py:97: UserWarning: Given trait value dtype \"uint32\" does not match required type \"float64\". A coerced copy has been created.\n",
      "  warnings.warn(\n"
     ]
    },
    {
     "data": {
      "application/vnd.jupyter.widget-view+json": {
       "model_id": "9da4d04d8e884b2faea6f04be78cf1e4",
       "version_major": 2,
       "version_minor": 0
      },
      "text/plain": [
       "HBox(children=(Output(), Output()))"
      ]
     },
     "metadata": {},
     "output_type": "display_data"
    },
    {
     "data": {
      "application/vnd.jupyter.widget-view+json": {
       "model_id": "ec0bd87cbe1c49cca0a3ed403ec02a08",
       "version_major": 2,
       "version_minor": 0
      },
      "text/plain": [
       "HBox(children=(Output(), Output()))"
      ]
     },
     "metadata": {},
     "output_type": "display_data"
    }
   ],
   "source": [
    "# Now subdivided_mesh contains the vertices and faces of the subdivided mesh\n",
    "# You can visualize it directly\n",
    "# Plot the mesh\n",
    "d = mp.subplot(smoothed_mesh.vertices, smoothed_mesh.faces.astype(\"int\"), s=[2, 2, 2])"
   ]
  },
  {
   "cell_type": "markdown",
   "id": "a186d1f8-996e-4e0b-a4cd-9665ca8463d1",
   "metadata": {},
   "source": [
    "# Load scalar field for texturing + Gaussian Smoothing"
   ]
  },
  {
   "cell_type": "code",
   "execution_count": 11,
   "id": "25494214-c2c9-4d9b-9fc4-338dc7e5603a",
   "metadata": {
    "scrolled": true
   },
   "outputs": [],
   "source": [
    "# Load a 3D scalar field to overlay onto the surface mesh\n",
    "scalar_field = np.load('data/r_HEC_CON_001right.npy')"
   ]
  },
  {
   "cell_type": "code",
   "execution_count": 12,
   "id": "816b409f-8c64-4276-bd47-d768a3e88146",
   "metadata": {},
   "outputs": [],
   "source": [
    "# Apply Gaussian smoothing\n",
    "sigma = 1  # Standard deviation of the Gaussian kernel, adjust as needed\n",
    "smoothed_scalar_field = scipy.ndimage.gaussian_filter(scalar_field, sigma)"
   ]
  },
  {
   "cell_type": "code",
   "execution_count": 13,
   "id": "844ac0fc-6e0d-46ed-8e90-8c0593c15e53",
   "metadata": {},
   "outputs": [
    {
     "data": {
      "image/png": "[encoded data removed]",
      "text/plain": [
       "<Figure size 500x500 with 16 Axes>"
      ]
     },
     "metadata": {},
     "output_type": "display_data"
    }
   ],
   "source": [
    "# Plot slices of the scalar field using matplotlib\n",
    "fig, axs = plt.subplots(fig_rows, fig_cols, figsize=[5, 5])\n",
    "\n",
    "for idx, img in enumerate(range(start_stop, plot_range, step_size)):\n",
    "    axs.flat[idx].imshow(ndi.rotate(smoothed_scalar_field[img, :, :], 90), cmap='inferno')\n",
    "    axs.flat[idx].axis('off')\n",
    "\n",
    "plt.tight_layout()\n",
    "plt.show()"
   ]
  },
  {
   "cell_type": "markdown",
   "id": "8e5549a0-1f67-4da9-88e4-336b0d8b1c27",
   "metadata": {},
   "source": [
    "# Map texture onto mesh faces"
   ]
  },
  {
   "cell_type": "code",
   "execution_count": 14,
   "id": "410fe418-d54b-456c-870f-eeb849287166",
   "metadata": {},
   "outputs": [],
   "source": [
    "# Map scalar values from the field onto the mesh vertices\n",
    "vertex_coords = smoothed_mesh.vertices - 0.5\n",
    "scalar_values_at_vertices = map_coordinates(smoothed_scalar_field, vertex_coords.T, order=1, mode='nearest')"
   ]
  },
  {
   "cell_type": "code",
   "execution_count": 15,
   "id": "a3babec3-c969-4380-80de-1cf15e30fc57",
   "metadata": {},
   "outputs": [],
   "source": [
    "# Calculate average scalar value per face of the mesh\n",
    "average_scalar_per_face = scalar_values_at_vertices[smoothed_mesh.faces.astype(\"int\")].mean(axis=1)"
   ]
  },
  {
   "cell_type": "code",
   "execution_count": 16,
   "id": "1d122f69-8bf9-4cd8-9203-fc78b57badac",
   "metadata": {},
   "outputs": [],
   "source": [
    "# Normalize and map the scalar values to colors for visualization\n",
    "norm = mcolors.Normalize(vmin=average_scalar_per_face.min(), vmax=average_scalar_per_face.max())\n",
    "colormap = plt.cm.plasma # Other options: https://matplotlib.org/stable/users/explain/colors/colormaps.html\n",
    "colors = colormap(norm(average_scalar_per_face))"
   ]
  },
  {
   "cell_type": "code",
   "execution_count": 17,
   "id": "763fa775-c900-4216-becd-e760ce646124",
   "metadata": {},
   "outputs": [
    {
     "data": {
      "application/vnd.jupyter.widget-view+json": {
       "model_id": "e109020af65b45ad9b1660699700f53b",
       "version_major": 2,
       "version_minor": 0
      },
      "text/plain": [
       "HBox(children=(Output(), Output()))"
      ]
     },
     "metadata": {},
     "output_type": "display_data"
    },
    {
     "data": {
      "application/vnd.jupyter.widget-view+json": {
       "model_id": "822d1bff7f7b4b96ab7c686da26e6b9a",
       "version_major": 2,
       "version_minor": 0
      },
      "text/plain": [
       "HBox(children=(Output(), Output()))"
      ]
     },
     "metadata": {},
     "output_type": "display_data"
    }
   ],
   "source": [
    "# Plot the colored mesh using meshplot\n",
    "d = mp.subplot(smoothed_mesh.vertices, smoothed_mesh.faces.astype(\"int\"), c=colors[:,0:3], s=[2, 2, 2])"
   ]
  },
  {
   "cell_type": "markdown",
   "id": "97539a62-c626-44ce-82f4-d5bd021ebc0a",
   "metadata": {},
   "source": [
    "# Export OBJ"
   ]
  },
  {
   "cell_type": "code",
   "execution_count": 18,
   "id": "3e055c94-83d3-4a61-afe9-84c5f1749cc9",
   "metadata": {},
   "outputs": [],
   "source": [
    "# Assuming smoothed_mesh is your mesh and colors are your per-vertex colors\n",
    "mesh = trimesh.Trimesh(vertices=smoothed_mesh.vertices, faces=smoothed_mesh.faces.astype(\"int\"), face_colors=colors[:, :3])\n",
    "\n",
    "# Attempt to make the mesh watertight and consistently orient the faces\n",
    "mesh = mesh.process()\n",
    "\n",
    "# Export to OBJ\n",
    "result = trimesh.exchange.obj.export_obj(mesh, include_normals=None, include_color=True, include_texture=True, return_texture=False, write_texture=True, resolver=None, digits=8, mtl_name=None, header='https://github.com/mikedh/trimesh')"
   ]
  },
  {
   "cell_type": "code",
   "execution_count": 19,
   "id": "9b026e64-2416-4b15-928d-f50caee41055",
   "metadata": {},
   "outputs": [],
   "source": [
    "# Save the OBJ file\n",
    "with open('output.obj', 'w') as f:\n",
    "    f.write(result)"
   ]
  }
 ],
 "metadata": {
  "kernelspec": {
   "display_name": "Python 3 (ipykernel)",
   "language": "python",
   "name": "python3"
  },
  "language_info": {
   "codemirror_mode": {
    "name": "ipython",
    "version": 3
   },
   "file_extension": ".py",
   "mimetype": "text/x-python",
   "name": "python",
   "nbconvert_exporter": "python",
   "pygments_lexer": "ipython3",
   "version": "3.10.13"
  }
 },
 "nbformat": 4,
 "nbformat_minor": 5
}
